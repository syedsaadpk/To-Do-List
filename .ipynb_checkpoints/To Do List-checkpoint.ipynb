{
 "cells": [
  {
   "cell_type": "markdown",
   "metadata": {},
   "source": [
    "# To Do List"
   ]
  },
  {
   "cell_type": "code",
   "execution_count": 1,
   "metadata": {},
   "outputs": [
    {
     "name": "stdout",
     "output_type": "stream",
     "text": [
      "You have to do some task\n",
      "['weakup', 'sehri', 'praying', 'walking', 'tilawat', 'aftari']\n",
      "Please Enter Today's Completed Tasktilawat\n",
      "Your remaining tasks are ['weakup', 'sehri', 'praying', 'walking', 'aftari']\n",
      "Your completed tasks are ['tilawat']\n"
     ]
    }
   ],
   "source": [
    "task_list = ['weakup', 'sehri', 'praying', 'walking', 'tilawat', 'aftari']\n",
    "completed_task = []\n",
    "print('You have to do some task')\n",
    "print(f'{task_list}')\n",
    "selected_task = input('Please Enter Today\\'s Completed Task').lower()\n",
    "if selected_task in task_list:\n",
    "    completed_task.append(task_list.pop(task_list.index(selected_task)))\n",
    "    print(f'Your remaining tasks are {task_list}')\n",
    "    print(f'Your completed tasks are {completed_task}')\n",
    "else:\n",
    "    print('Your entered task is not in your task list')"
   ]
  },
  {
   "cell_type": "code",
   "execution_count": null,
   "metadata": {},
   "outputs": [],
   "source": []
  }
 ],
 "metadata": {
  "kernelspec": {
   "display_name": "Python 3",
   "language": "python",
   "name": "python3"
  },
  "language_info": {
   "codemirror_mode": {
    "name": "ipython",
    "version": 3
   },
   "file_extension": ".py",
   "mimetype": "text/x-python",
   "name": "python",
   "nbconvert_exporter": "python",
   "pygments_lexer": "ipython3",
   "version": "3.7.3"
  }
 },
 "nbformat": 4,
 "nbformat_minor": 2
}
